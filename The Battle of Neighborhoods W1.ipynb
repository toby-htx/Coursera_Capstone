{
    "cells": [
        {
            "metadata": {
                "collapsed": true
            },
            "cell_type": "markdown",
            "source": "<h1>The Battle of Neighborhoods W1</h1>"
        },
        {
            "metadata": {},
            "cell_type": "markdown",
            "source": "<h3> Background </h3>"
        },
        {
            "metadata": {},
            "cell_type": "markdown",
            "source": "Covid-19 has negatively affected tourism in Japan as with everywhere else, and a return to pre-Covid days is unlikely, or slow at best. In the latter scenario, future travellers \nare probably limited in the areas they could explore, and it would be best if they could have an efficient travel plan where they are able to enjoy the most number of experiences\nin the shortest period of time. One strategy would be to visit areas with a high concentration of attractions, food places, and entertainment where it is easy to navigate by foot\nand the venues are close to each other. "
        },
        {
            "metadata": {},
            "cell_type": "markdown",
            "source": "<h3> Why Tokyo? </h3>"
        },
        {
            "metadata": {},
            "cell_type": "markdown",
            "source": "As the most visited city in Japan, Tokyo must undoubtedly have the largest concentration of attractions in Japan. Each Ward, as Tokyo is split into, correspondingly has its \nown cluster of districts filled with attractions, and food and entertainment places. The question for the future traveller is then which Ward(s) to explore so that they can have the \nmost experiences within the shortest amount of time."
        },
        {
            "metadata": {},
            "cell_type": "markdown",
            "source": "<h3> Business Problem </h3>"
        },
        {
            "metadata": {},
            "cell_type": "markdown",
            "source": "<b> Which Tokyo Ward should a traveller visit to enjoy the most number of experiences ? </b>"
        },
        {
            "metadata": {},
            "cell_type": "markdown",
            "source": "<h3> The Dataset </h3>"
        },
        {
            "metadata": {},
            "cell_type": "markdown",
            "source": "To address this problem, it is best if we could have a dataset that examines the number of venues each Ward has in its major districts. It stands to\nreason that Wards with more attractions and food and entertainment places allow for more experiences and more efficient exploration. We would also be examining the \nlatitude and longitude of the Wards and districts."
        },
        {
            "metadata": {},
            "cell_type": "markdown",
            "source": "To get the dataset, information about the Wards and major districts in Tokyo was scrapped from the Wikipedia page <u>https://en.wikipedia.org/wiki/Special_wards_of_Tokyo</u>\nusing BeautifulSoup. Python\u2019s geopy package was then used to obtain the latitude and longitude of all the major districts and merged with the former data.\n\nThe columns of this dataset is as such:\n    <li>Ward Name</li>\n    <li>Major District</li>\n    <li>Latitude</li>\n    <li>Longitude</li>"
        },
        {
            "metadata": {},
            "cell_type": "code",
            "source": "import pandas as pd\n\n\ndf_data_1 = pd.read_csv(body)\ndf_data_1.head()",
            "execution_count": 7,
            "outputs": [
                {
                    "output_type": "execute_result",
                    "execution_count": 7,
                    "data": {
                        "text/plain": "  Ward Name Major District   Latitude   Longitude\n0   Chiyoda      Nagatacho  35.675618  139.743469\n1      Chuo     Nihonbashi  35.684068  139.774503\n2    Minato         Odaiba  35.619050  139.779364\n3  Shinjuku       Shinjuku  35.693763  139.703632\n4    Bunky\u014d          Hongo  35.175376  137.013476",
                        "text/html": "<div>\n<style scoped>\n    .dataframe tbody tr th:only-of-type {\n        vertical-align: middle;\n    }\n\n    .dataframe tbody tr th {\n        vertical-align: top;\n    }\n\n    .dataframe thead th {\n        text-align: right;\n    }\n</style>\n<table border=\"1\" class=\"dataframe\">\n  <thead>\n    <tr style=\"text-align: right;\">\n      <th></th>\n      <th>Ward Name</th>\n      <th>Major District</th>\n      <th>Latitude</th>\n      <th>Longitude</th>\n    </tr>\n  </thead>\n  <tbody>\n    <tr>\n      <th>0</th>\n      <td>Chiyoda</td>\n      <td>Nagatacho</td>\n      <td>35.675618</td>\n      <td>139.743469</td>\n    </tr>\n    <tr>\n      <th>1</th>\n      <td>Chuo</td>\n      <td>Nihonbashi</td>\n      <td>35.684068</td>\n      <td>139.774503</td>\n    </tr>\n    <tr>\n      <th>2</th>\n      <td>Minato</td>\n      <td>Odaiba</td>\n      <td>35.619050</td>\n      <td>139.779364</td>\n    </tr>\n    <tr>\n      <th>3</th>\n      <td>Shinjuku</td>\n      <td>Shinjuku</td>\n      <td>35.693763</td>\n      <td>139.703632</td>\n    </tr>\n    <tr>\n      <th>4</th>\n      <td>Bunky\u014d</td>\n      <td>Hongo</td>\n      <td>35.175376</td>\n      <td>137.013476</td>\n    </tr>\n  </tbody>\n</table>\n</div>"
                    },
                    "metadata": {}
                }
            ]
        }
    ],
    "metadata": {
        "kernelspec": {
            "name": "python3",
            "display_name": "Python 3.7",
            "language": "python"
        },
        "language_info": {
            "name": "python",
            "version": "3.7.10",
            "mimetype": "text/x-python",
            "codemirror_mode": {
                "name": "ipython",
                "version": 3
            },
            "pygments_lexer": "ipython3",
            "nbconvert_exporter": "python",
            "file_extension": ".py"
        }
    },
    "nbformat": 4,
    "nbformat_minor": 1
}